{
 "cells": [
  {
   "cell_type": "markdown",
   "metadata": {},
   "source": [
    "Conditional Statement"
   ]
  },
  {
   "cell_type": "code",
   "execution_count": 10,
   "metadata": {},
   "outputs": [
    {
     "name": "stdout",
     "output_type": "stream",
     "text": [
      "Yeah this is a audi\n"
     ]
    }
   ],
   "source": [
    "vehicle = input(\"what's your car name, \")\n",
    "if vehicle == \"corolla\":\n",
    "    print(f\"Yeah, this is a {vehicle}\")\n",
    "\n",
    "elif vehicle == \"audi\":\n",
    "    print(f\"Yeah this is a {vehicle}\")  \n",
    "elif vehicle == \"civic\":\n",
    "    print(f\"Yeah this is a {vehicle}\") \n",
    "elif vehicle == \"mehran\":\n",
    "    print(f\"Yeah this is a {vehicle}\")           \n",
    "          \n",
    "else:\n",
    "    pass"
   ]
  },
  {
   "cell_type": "code",
   "execution_count": 3,
   "metadata": {},
   "outputs": [
    {
     "name": "stdout",
     "output_type": "stream",
     "text": [
      "Yes, this is a cat of kingdom animal\n"
     ]
    }
   ],
   "source": [
    "species = \"cat\"\n",
    "if species == \"cat\":\n",
    "    status = \"ok\"\n",
    "    kingdom = \"animal\"\n",
    "    print(f\"Yes, this is a cat of kingdom {kingdom}\")"
   ]
  },
  {
   "cell_type": "code",
   "execution_count": 13,
   "metadata": {},
   "outputs": [
    {
     "name": "stdout",
     "output_type": "stream",
     "text": [
      "Your grade is C\n"
     ]
    }
   ],
   "source": [
    "marks = float(input())\n",
    "\n",
    "if marks >= 80:\n",
    "    grade = \"A\"\n",
    "    print(f\"your grade is {grade}\")\n",
    "elif marks >= 90:\n",
    "    grade = \"A+\"\n",
    "    print(f\"Your grade is {grade}\")\n",
    "elif marks >= 95:\n",
    "    grade = \"A++\"\n",
    "    print(f\"Your grade is {grade}\")\n",
    "elif marks >= 70:\n",
    "    grade = \"B\"\n",
    "    print(f\"Your grade is {grade}\")     \n",
    "elif marks >= 60:\n",
    "    grade = \"C\"\n",
    "    print(f\"Your grade is {grade}\") \n",
    "elif marks <= 50:\n",
    "    grade = \"Fail\"\n",
    "    print(f\"Your grade is {grade}\")            \n"
   ]
  },
  {
   "cell_type": "markdown",
   "metadata": {},
   "source": [
    "##comparison operator\n"
   ]
  },
  {
   "cell_type": "code",
   "execution_count": 14,
   "metadata": {},
   "outputs": [
    {
     "name": "stdout",
     "output_type": "stream",
     "text": [
      "15\n"
     ]
    }
   ],
   "source": [
    "score = 0\n",
    "is_fresh = True\n",
    "price = \"average\"\n",
    "all_available = True\n",
    "if all_available:\n",
    "    score += 5\n",
    "if is_fresh:\n",
    "    score += 5\n",
    "if price == \"average\":\n",
    "    score += 5\n",
    "print(score)    \n",
    "    "
   ]
  },
  {
   "cell_type": "code",
   "execution_count": 21,
   "metadata": {},
   "outputs": [
    {
     "name": "stdout",
     "output_type": "stream",
     "text": [
      "Not Eligible to take admission in University ..\n"
     ]
    }
   ],
   "source": [
    "percentage_inter = int(input(\"Enter your percentage. \"))\n",
    "age_limit = int(input(\"Enter your age ..\"))\n",
    "\n",
    "if percentage_inter >= 60 and age_limit >= 18:\n",
    "    print(\"Eligible to take admission in University.. \")\n",
    "else:\n",
    "    print(\"Not Eligible to take admission in University ..\")"
   ]
  },
  {
   "cell_type": "code",
   "execution_count": null,
   "metadata": {},
   "outputs": [],
   "source": []
  }
 ],
 "metadata": {
  "kernelspec": {
   "display_name": "Python 3",
   "language": "python",
   "name": "python3"
  },
  "language_info": {
   "codemirror_mode": {
    "name": "ipython",
    "version": 3
   },
   "file_extension": ".py",
   "mimetype": "text/x-python",
   "name": "python",
   "nbconvert_exporter": "python",
   "pygments_lexer": "ipython3",
   "version": "3.12.2"
  }
 },
 "nbformat": 4,
 "nbformat_minor": 2
}
