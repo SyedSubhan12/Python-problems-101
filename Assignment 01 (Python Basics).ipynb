{
 "cells": [
  {
   "cell_type": "markdown",
   "metadata": {},
   "source": [
    "# Part -1 Python Basics (Variables)"
   ]
  },
  {
   "cell_type": "markdown",
   "metadata": {},
   "source": [
    "1. Print Your Name with your Father name and Date of birth using suitable escape sequence charactor"
   ]
  },
  {
   "cell_type": "code",
   "execution_count": 49,
   "metadata": {},
   "outputs": [
    {
     "name": "stdout",
     "output_type": "stream",
     "text": [
      " My name is Syed Subhan Shah\n",
      " My father name is Syed Hussain Shah\n",
      " My Date Of Birth is 09/10/2009\n"
     ]
    }
   ],
   "source": [
    "# Write your code here\n",
    "my_name = \"Syed Subhan Shah\"\n",
    "father_name = \"Syed Hussain Shah\"\n",
    "dob = \"09/10/2009\"\n",
    "print(f\" My name is {my_name}\\n My father name is {father_name}\\n My Date Of Birth is {dob}\")\n"
   ]
  },
  {
   "cell_type": "markdown",
   "metadata": {},
   "source": [
    "2. Write your small bio using variables and print it using print function"
   ]
  },
  {
   "cell_type": "code",
   "execution_count": 50,
   "metadata": {},
   "outputs": [
    {
     "data": {
      "text/plain": [
       "'Syed Subhan Shah is a skilled Python programmer with a passion for coding.\\n With a strong foundation in software development, Syed excels at creating efficient and innovative solutions.\\n When not immersed in coding projects, Syed enjoys exploring new technologies and staying updated with the latest trends in programming.\\n\\n'"
      ]
     },
     "execution_count": 50,
     "metadata": {},
     "output_type": "execute_result"
    }
   ],
   "source": [
    "# Write your code here\n",
    "bio = \"\"\"Syed Subhan Shah is a skilled Python programmer with a passion for coding.\\n With a strong foundation in software development, Syed excels at creating efficient and innovative solutions.\\n When not immersed in coding projects, Syed enjoys exploring new technologies and staying updated with the latest trends in programming.\n",
    "\n",
    "\"\"\"\n",
    "bio"
   ]
  },
  {
   "cell_type": "markdown",
   "metadata": {},
   "source": [
    "3. Write a program in which use all the operators we can use in Python"
   ]
  },
  {
   "cell_type": "code",
   "execution_count": 51,
   "metadata": {},
   "outputs": [
    {
     "name": "stdout",
     "output_type": "stream",
     "text": [
      "Arithematic Operator: \n",
      "Addition = 14\n",
      "Subtraction = 6\n",
      "Multiplication = 40\n",
      "Division = 2.5\n",
      "floor Division = 2.5\n",
      "Exponentiation = 10000\n",
      "\n",
      "Comparison Operator: \n",
      "If x = y : False\n",
      "If x < y : False\n",
      "If x > y : True\n",
      "If x != y : True\n",
      "If x >= y : True\n",
      "If x <= y : False\n",
      "\n",
      "Assignment Operator: \n",
      "i = 1 : 1\n",
      "u = 3 : 3\n",
      "c = i + u or c += b : 4\n",
      "c = i - u or c -= b  :-2\n",
      "c = i * u or c *= b  :3\n",
      "c = i / u or c /= b  : 0.3333333333333333\n",
      "c = i % u or c %= b  : 1\n",
      "c = i ** u or c **= b : 0.3333333333333333\n",
      "\n",
      "Logical Operators: \n",
      "True\n",
      "True\n",
      "False\n"
     ]
    }
   ],
   "source": [
    "# Write your code here\n",
    "#Arithematic Operator\n",
    "print(\"\"\"Arithematic Operator: \"\"\")\n",
    "x = 10\n",
    "y = 4\n",
    "print(f\"Addition = {x + y}\")\n",
    "print(f\"Subtraction = {x - y}\")\n",
    "print(f\"Multiplication = {x * y}\")\n",
    "print(f\"Division = {x / y}\")\n",
    "print(f\"floor Division = {x / y}\")\n",
    "print(f\"Exponentiation = {x ** y}\\n\")\n",
    "\n",
    "\n",
    "##Comparison Operator\n",
    "print(\"\"\"Comparison Operator: \"\"\")\n",
    "\n",
    "x = 10\n",
    "y = 3\n",
    "print(f\"If x = y : {x == y}\")\n",
    "print(f\"If x < y : {x < y}\")\n",
    "print(f\"If x > y : {x > y}\")\n",
    "print(f\"If x != y : {x != y}\")\n",
    "print(f\"If x >= y : {x >= y}\")\n",
    "print(f\"If x <= y : {x <= y}\\n\")\n",
    "\n",
    "print(\"Assignment Operator: \")\n",
    "i = 1\n",
    "u = 3\n",
    "\n",
    "print(f\"i = 1 : {i}\")\n",
    "print(f\"u = 3 : {u}\")\n",
    "print(f\"c = i + u or c += b : {i + u}\")\n",
    "print(f\"c = i - u or c -= b  :{i - u}\")\n",
    "print(f\"c = i * u or c *= b  :{i * u}\")\n",
    "print(f\"c = i / u or c /= b  : {i / u}\")\n",
    "print(f\"c = i % u or c %= b  : {i % u}\")\n",
    "print(f\"c = i ** u or c **= b : {i / u}\\n\")\n",
    "\n",
    "print(\"Logical Operators: \")\n",
    "\n",
    "x = 5\n",
    "y = 3\n",
    "print(x > y  and y < x)\n",
    "print(x > y  or y < x)\n",
    "print(not(x > y  and y < x))\n",
    "\n",
    "\n",
    "\n"
   ]
  },
  {
   "cell_type": "markdown",
   "metadata": {},
   "source": [
    "4. Completes the following steps of small task:\n",
    "    - Mention Marks of English , Islamiat and Maths out of 100 in 3 different variables\n",
    "    - Mention Variable of Total Marks and assign 300 to it\n",
    "    - Calculate Percentage"
   ]
  },
  {
   "cell_type": "code",
   "execution_count": 52,
   "metadata": {},
   "outputs": [
    {
     "ename": "ValueError",
     "evalue": "invalid literal for int() with base 10: ''",
     "output_type": "error",
     "traceback": [
      "\u001b[1;31m---------------------------------------------------------------------------\u001b[0m",
      "\u001b[1;31mValueError\u001b[0m                                Traceback (most recent call last)",
      "Cell \u001b[1;32mIn[52], line 2\u001b[0m\n\u001b[0;32m      1\u001b[0m \u001b[38;5;66;03m# Write your code here\u001b[39;00m\n\u001b[1;32m----> 2\u001b[0m english \u001b[38;5;241m=\u001b[39m \u001b[38;5;28;43mint\u001b[39;49m\u001b[43m(\u001b[49m\u001b[38;5;28;43minput\u001b[39;49m\u001b[43m(\u001b[49m\u001b[38;5;124;43m\"\u001b[39;49m\u001b[38;5;124;43mHow many Marks  you get in english out of 100: \u001b[39;49m\u001b[38;5;124;43m\"\u001b[39;49m\u001b[43m)\u001b[49m\u001b[43m)\u001b[49m\n\u001b[0;32m      3\u001b[0m Maths \u001b[38;5;241m=\u001b[39m \u001b[38;5;28mint\u001b[39m(\u001b[38;5;28minput\u001b[39m(\u001b[38;5;124m\"\u001b[39m\u001b[38;5;124mHow many Marks  you get in Maths out of 100: \u001b[39m\u001b[38;5;124m\"\u001b[39m))\n\u001b[0;32m      4\u001b[0m Islamiat \u001b[38;5;241m=\u001b[39m \u001b[38;5;28mint\u001b[39m(\u001b[38;5;28minput\u001b[39m(\u001b[38;5;124m\"\u001b[39m\u001b[38;5;124mHow many Marks  you get in Islamiat out of 100: \u001b[39m\u001b[38;5;124m\"\u001b[39m))\n",
      "\u001b[1;31mValueError\u001b[0m: invalid literal for int() with base 10: ''"
     ]
    }
   ],
   "source": [
    "# Write your code here\n",
    "english = int(input(\"How many Marks  you get in english out of 100: \"))\n",
    "Maths = int(input(\"How many Marks  you get in Maths out of 100: \"))\n",
    "Islamiat = int(input(\"How many Marks  you get in Islamiat out of 100: \"))\n",
    "total_marks = 300\n",
    "obtained_marks = english + Maths + Islamiat\n",
    "percentage = (obtained_marks / total_marks) * 100\n",
    "print(\"Your total marks are: \", obtained_marks)\n",
    "print(\"Your percentage is: \", percentage)\n",
    "\n",
    "\n"
   ]
  },
  {
   "cell_type": "markdown",
   "metadata": {},
   "source": [
    "# Part -2 Python Basics (Conditional Statements)"
   ]
  },
  {
   "cell_type": "markdown",
   "metadata": {},
   "source": [
    "1) A company decided to give bonus of 5% to employee if his/her year of service is more than 5 years.\n",
    "Ask user for their salary and year of service and print the net bonus amount."
   ]
  },
  {
   "cell_type": "code",
   "execution_count": null,
   "metadata": {},
   "outputs": [
    {
     "name": "stdout",
     "output_type": "stream",
     "text": [
      "Your salary with bonus is:  2100.0\n"
     ]
    }
   ],
   "source": [
    "#Type your code here\n",
    "employee_salary =int(input(\"What's your salary: \"))\n",
    "employee_year = int(input(\"Enter the year of works: \"))\n",
    "if employee_year >= 5:\n",
    " \n",
    "    total_salary = employee_salary + (employee_salary * 0.05)\n",
    "    print(\"Your salary with bonus is: \",total_salary)\n",
    "else:\n",
    "    print(\"You are not in the fullfilment of works\")    "
   ]
  },
  {
   "cell_type": "markdown",
   "metadata": {},
   "source": [
    "\n",
    "2) Write a program to check whether a person is eligible for voting or not. (accept age from user) if age is greater than 17 eligible otherwise not eligible"
   ]
  },
  {
   "cell_type": "code",
   "execution_count": null,
   "metadata": {},
   "outputs": [
    {
     "name": "stdout",
     "output_type": "stream",
     "text": [
      "You are eligible to vote\n"
     ]
    }
   ],
   "source": [
    "#Type your code here\n",
    "age = int(input(\"Enter your age...\"))\n",
    "if age >= 17:\n",
    "    print(\"You are eligible to vote\")\n",
    "else:\n",
    "    print(\"You are not eligible to vote\")"
   ]
  },
  {
   "cell_type": "markdown",
   "metadata": {},
   "source": [
    "\n",
    "3) Write a program to check whether a number entered by user is even or odd."
   ]
  },
  {
   "cell_type": "code",
   "execution_count": null,
   "metadata": {},
   "outputs": [
    {
     "name": "stdout",
     "output_type": "stream",
     "text": [
      "The number is odd\n"
     ]
    }
   ],
   "source": [
    "#Type your code here\n",
    "check_number = int(input(\"Enter a number and i will tell you whether it's even or odd \"))\n",
    "if check_number % 2 ==0:\n",
    "    print(\"The number is even\")\n",
    "else:\n",
    "    print(\"The number is odd\")    "
   ]
  },
  {
   "cell_type": "markdown",
   "metadata": {},
   "source": [
    "4) Write a program to check whether a number is divisible by 7 or not.\n",
    "Show Answer"
   ]
  },
  {
   "cell_type": "code",
   "execution_count": null,
   "metadata": {},
   "outputs": [
    {
     "name": "stdout",
     "output_type": "stream",
     "text": [
      "The numebr is divisible by 7\n"
     ]
    }
   ],
   "source": [
    "#Type your code here\n",
    "check = int(input(\"Enter  a number and i will tell you is it divisible by 7  \"))\n",
    "if check %7 == 0:\n",
    "    print(\"The numebr is divisible by 7\") \n",
    "else:\n",
    "    print('The number is not divisible by 7')    \n"
   ]
  },
  {
   "cell_type": "markdown",
   "metadata": {},
   "source": [
    "5) Write a program to display \n",
    "\"Hello\" if a number entered by user is a multiple of five , otherwise print \"Bye\"."
   ]
  },
  {
   "cell_type": "code",
   "execution_count": null,
   "metadata": {},
   "outputs": [
    {
     "name": "stdout",
     "output_type": "stream",
     "text": [
      "Hello\n"
     ]
    }
   ],
   "source": [
    "#Type your code here\n",
    "number = int(input(\"Enter a number .. \"))\n",
    "if number % 5 == 0:\n",
    "    print(\"Hello\")\n",
    "else:\n",
    "    print(\"Bye\")    "
   ]
  },
  {
   "cell_type": "markdown",
   "metadata": {},
   "source": [
    "7) Write a program to display the last digit of a number.\n"
   ]
  },
  {
   "cell_type": "code",
   "execution_count": null,
   "metadata": {},
   "outputs": [
    {
     "name": "stdout",
     "output_type": "stream",
     "text": [
      "2\n"
     ]
    }
   ],
   "source": [
    "#Type your code here\n",
    "number = int(\"031382\")  # Converts the string to an integer\n",
    "n = str(number)[-1]  # Converts the integer back to a string and accesses the last character\n",
    "n = int(n)  # Optionally converts the last character back to an integer\n",
    "print(n)  # Outputs: 2\n"
   ]
  },
  {
   "cell_type": "markdown",
   "metadata": {},
   "source": [
    "9) Take values of length and breadth of a rectangle from user and print if it is square or rectangle."
   ]
  },
  {
   "cell_type": "code",
   "execution_count": null,
   "metadata": {},
   "outputs": [
    {
     "name": "stdout",
     "output_type": "stream",
     "text": [
      "It is a square\n"
     ]
    }
   ],
   "source": [
    "#Type your code here \n",
    "length = float(input(\"Enter the length \"))\n",
    "breadth = float(input(\"Enter the breadth \"))\n",
    "if length == breadth:\n",
    "    print(\"It is a square\")\n",
    "else:\n",
    "    print(\"It is a rectangle\")    \n"
   ]
  },
  {
   "cell_type": "markdown",
   "metadata": {},
   "source": [
    "10) Take two int values from user and print greatest among them."
   ]
  },
  {
   "cell_type": "code",
   "execution_count": null,
   "metadata": {},
   "outputs": [
    {
     "name": "stdout",
     "output_type": "stream",
     "text": [
      "The 3 is greater than 2\n"
     ]
    }
   ],
   "source": [
    "# Type your code here\n",
    "x = int(input(\"Tell me a number and i will tell you which one is greater \"))\n",
    "y = int(input(\"Tell me another number \"))\n",
    "if x >= y:\n",
    "    print(f\"The {x} is greater than {y}\")\n",
    "else:\n",
    "     print(f\"The {x} is Lower than {y}\")\n"
   ]
  },
  {
   "cell_type": "markdown",
   "metadata": {},
   "source": [
    "11) A shop will give discount of 10% if the cost of purchased quantity is more than 1000.\n",
    "Ask user for quantity\n",
    "Suppose, one unit will cost 100.\n",
    "Judge and print total cost for user."
   ]
  },
  {
   "cell_type": "code",
   "execution_count": null,
   "metadata": {},
   "outputs": [
    {
     "name": "stdout",
     "output_type": "stream",
     "text": [
      "Your total cost is 27000.0\n"
     ]
    }
   ],
   "source": [
    "#Type your code here\n",
    "quantity = int(input(\"Enter the quantity \"))\n",
    "\n",
    "total_cost = quantity * 100\n",
    "if total_cost >=1000:\n",
    "    discount = total_cost  * 0.10\n",
    "    final_cost = total_cost - discount\n",
    "    print(f\"Your total cost is {final_cost}\")        \n",
    "else:\n",
    "    print(f\"Your total cost is {total_cost}\")    "
   ]
  },
  {
   "cell_type": "markdown",
   "metadata": {},
   "source": [
    "12) A school has following rules for grading system:\n",
    "\n",
    "a. Below 25 - F\n",
    "\n",
    "b. 25 to 45 - E\n",
    "\n",
    "c. 45 to 50 - D\n",
    "\n",
    "d. 50 to 60 - C\n",
    "\n",
    "e. 60 to 80 - B\n",
    "\n",
    "f. Above 80 - A\n",
    "\n",
    "Ask user to enter marks and print the corresponding grade."
   ]
  },
  {
   "cell_type": "code",
   "execution_count": null,
   "metadata": {},
   "outputs": [
    {
     "name": "stdout",
     "output_type": "stream",
     "text": [
      "You got the E grade\n"
     ]
    }
   ],
   "source": [
    "#Type your code here\n",
    "marks = int(input(\"How many marks did you get .. \"))\n",
    "if marks <=25:\n",
    "    print(\"You got F grade\")\n",
    "elif marks > 25 and marks <=45:\n",
    "    print(f\"You got the E grade\") \n",
    "elif marks > 45 and marks < 50:\n",
    "    print(\"You got the D grade\")    \n",
    "elif marks >50 and marks <=60:\n",
    "    print(\"You got the C grade\")    \n",
    "elif marks >60 and marks <= 80:\n",
    "    print(\"You got the B grade\")    \n",
    "elif marks >=80:\n",
    "    print(\"You got the A grade\")    "
   ]
  },
  {
   "cell_type": "markdown",
   "metadata": {},
   "source": [
    "14)A student will not be allowed to sit in exam if his/her attendence is less than 75%.\n",
    "\n",
    "Take following input from user\n",
    "\n",
    "- Number of classes held\n",
    "\n",
    "- Number of classes attended.\n",
    "\n",
    "And print\n",
    "\n",
    "- percentage of class attended\n",
    "\n",
    "- Is student is allowed to sit in exam or not.\n"
   ]
  },
  {
   "cell_type": "code",
   "execution_count": 53,
   "metadata": {},
   "outputs": [
    {
     "name": "stdout",
     "output_type": "stream",
     "text": [
      "You are allowed to sit for the exam\n"
     ]
    }
   ],
   "source": [
    "#Type your code here\n",
    "number_of_classes = int(input(\"How many total classes are there .. \"))\n",
    "number_of_classes_attended = int(input(\"How many you attended the classes .. \"))\n",
    "percentage = (number_of_classes_attended /number_of_classes)  * 100\n",
    "\n",
    "if percentage >=75:\n",
    "    print(\"You are allowed to sit for the exam\")\n",
    "else:\n",
    "    print(\"You are not allowed to sit for the exam\")"
   ]
  },
  {
   "cell_type": "markdown",
   "metadata": {},
   "source": [
    "15) Modify the above question to allow student to sit if he/she has medical cause. Ask user if he/she has medical cause or not ( 'Y' or 'N' ) and print accordingly."
   ]
  },
  {
   "cell_type": "code",
   "execution_count": 54,
   "metadata": {},
   "outputs": [
    {
     "name": "stdout",
     "output_type": "stream",
     "text": [
      "ok! No problem ..\n"
     ]
    }
   ],
   "source": [
    "#Type your code here\n",
    "medical_cause = input(\"Do you have any cause of absence.  \")\n",
    "if medical_cause == \"yes\".lower():\n",
    "    print(\"ok! No problem , You can sit in the class..\")\n",
    "else:\n",
    "    print(\"If you do not have any reason behind the absence then we cannot do anything\")        "
   ]
  },
  {
   "cell_type": "markdown",
   "metadata": {},
   "source": [
    "16) Write a program to check if a year is leap year or not.\n",
    "\n",
    "If a year is divisible by 4 then it is leap year but if the year is century year like 2000, 1900, 2100 then it must be divisible by 400."
   ]
  },
  {
   "cell_type": "code",
   "execution_count": 4,
   "metadata": {},
   "outputs": [
    {
     "name": "stdout",
     "output_type": "stream",
     "text": [
      "2023 is not a leap year\n"
     ]
    }
   ],
   "source": [
    "#Type your code here\n",
    "year = int(input(\"Enter the year and i will tell you whether it is leap or not. \"))\n",
    "if year % 4 == 0:\n",
    "    print(f\"{year} is a leap year\")\n",
    "    if year == [2000, 1900, 2100]:\n",
    "        print(\"this is also a leap year\")\n",
    "else:\n",
    "    print(f\"{year} is not a leap year\")        "
   ]
  },
  {
   "cell_type": "markdown",
   "metadata": {},
   "source": [
    "17) Ask user to enter age, gender ( M or F ), marital status ( Y or N ) and then using following rules print their place of service.\n",
    "\n",
    "if employee is female, then she will work only in urban areas.\n",
    "\n",
    "if employee is a male and age is in between 20 to 40 then he may work in anywhere\n",
    "\n",
    "if employee is male and age is in between 40 t0 60 then he will work in urban areas only.\n",
    "\n",
    "And any other input of age should print \"ERROR\""
   ]
  },
  {
   "cell_type": "code",
   "execution_count": 13,
   "metadata": {},
   "outputs": [
    {
     "name": "stdout",
     "output_type": "stream",
     "text": [
      "He will work in both rural and urban areas\n"
     ]
    }
   ],
   "source": [
    "#Type your code here\n",
    "employee_gender = input(\"Enter the gender.. \")\n",
    "employee_martial_status = input(\"Enter the marital status.. \")\n",
    "employee_age = int(input(\"Enter the age.  \"))\n",
    "\n",
    "if employee_gender == \"female\".lower():\n",
    "    if employee_martial_status == \"yes\".lower():\n",
    "        if employee_age >=20 and employee_age<= 40:\n",
    "           print(\"She will work only in urban areas\")\n",
    "if employee_gender == \"male\".lower():\n",
    "    if employee_age>=20 and employee_age<= 40:\n",
    "        \n",
    "           print('He will work in both rural and urban areas')        \n",
    "if employee_gender == \"male\".lower():\n",
    "    if employee_age >=40 and employee_age<=60:\n",
    "        print(\"He will work in urban areas only\")        \n",
    "\n",
    "elif age < 20:\n",
    "    print(KeyError)            \n",
    "\n",
    "\n",
    "    "
   ]
  },
  {
   "cell_type": "markdown",
   "metadata": {},
   "source": [
    "6) Write a program to calculate the electricity bill (accept number of unit from user) according to the following criteria :\n",
    "     Unit                                                     Price  \n",
    "uptp 100 units                                             no charge\n",
    "Next 200 units                                              Rs 5 per unit\n",
    "After 200 units                                             Rs 10 per unit\n",
    "(For example if input unit is 350 than total bill amount is Rs.3500\n",
    "(For example if input unit is 97 than total bill amount is Rs.0\n",
    "(For example if input unit is 150 than total bill amount is Rs.750"
   ]
  },
  {
   "cell_type": "code",
   "execution_count": 15,
   "metadata": {},
   "outputs": [
    {
     "name": "stdout",
     "output_type": "stream",
     "text": [
      "1500 is the total bill\n"
     ]
    }
   ],
   "source": [
    "#Type your code here\n",
    "number_unit = int(input(\"Enter the unit of electricity: \"))\n",
    "total_bill = int()\n",
    "if number_unit <= 100:\n",
    "    total_bill = number_unit * 0.5\n",
    "    print(\"the total bill is RS 0\")\n",
    "elif number_unit > 100 and number_unit <= 300:\n",
    "    if number_unit == 200:\n",
    "      total_bill = number_unit * 5\n",
    "      print(f\"{total_bill} is the total bill\")\n",
    "    if number_unit == 300:\n",
    "       total_bill = number_unit * 5\n",
    "       print(f\"{total_bill} is the total bill\")\n",
    "    if number_unit > 300:\n",
    "       total_bill = number_unit * 10\n",
    "       print(f\"{total_bill} is the total bill\")\n",
    "\n",
    "\n"
   ]
  },
  {
   "cell_type": "markdown",
   "metadata": {},
   "source": [
    "13) Take input of age of 3 people by user and determine oldest and youngest among them."
   ]
  },
  {
   "cell_type": "code",
   "execution_count": 17,
   "metadata": {},
   "outputs": [
    {
     "name": "stdout",
     "output_type": "stream",
     "text": [
      "You are the youngest person\n",
      "You are the youngest person \n",
      "You are the oldest\n"
     ]
    }
   ],
   "source": [
    "#Type your code here\n",
    "age_1 = int(input(\"Enter the age .\"))\n",
    "age_2 = int(input(\"Enter the second age .\"))\n",
    "age_3 = int(input(\"Enter the third age .\"))\n",
    "if age_1 <= 20:\n",
    "    print(\"You are the youngest person\")\n",
    "if age_2 <= 20:\n",
    "       print(\"You are the youngest person \")  \n",
    "if age_3 <= 20:\n",
    "           print(\"You are the youngest person\")\n",
    "elif age_1 > 20:\n",
    "    print(\"You are the oldest\")           \n",
    "if age_2 > 20:\n",
    "        print(\"You  are the oldest\")\n",
    "if age_3 > 20:\n",
    "            print(\"You are the oldest\")\n",
    "\n",
    "\n"
   ]
  }
 ],
 "metadata": {
  "kernelspec": {
   "display_name": "Python 3 (ipykernel)",
   "language": "python",
   "name": "python3"
  },
  "language_info": {
   "codemirror_mode": {
    "name": "ipython",
    "version": 3
   },
   "file_extension": ".py",
   "mimetype": "text/x-python",
   "name": "python",
   "nbconvert_exporter": "python",
   "pygments_lexer": "ipython3",
   "version": "3.12.2"
  }
 },
 "nbformat": 4,
 "nbformat_minor": 2
}
