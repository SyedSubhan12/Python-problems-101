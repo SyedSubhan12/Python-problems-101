{
 "cells": [
  {
   "cell_type": "code",
   "execution_count": 4,
   "metadata": {},
   "outputs": [
    {
     "name": "stdout",
     "output_type": "stream",
     "text": [
      "can proceed woth the test\n",
      "can take ADMISSION\n"
     ]
    }
   ],
   "source": [
    "matric_pass = True\n",
    "\n",
    "if matric_pass: \n",
    "    print(f\"can proceed with the test\")\n",
    "    test_passed = input(\"Status of test(pass/fail)\")\n",
    "    if test_passed == \"pass\":\n",
    "        print(f\"can take ADMISSION\")\n",
    "    else:\n",
    "        print(f\"You are in waiting list\")    \n",
    "   \n",
    "else: print(f\"Atleast matric is the bare minimum rquirement\")    "
   ]
  },
  {
   "cell_type": "code",
   "execution_count": 6,
   "metadata": {},
   "outputs": [
    {
     "name": "stdout",
     "output_type": "stream",
     "text": [
      "You are able to get the admission..\n"
     ]
    }
   ],
   "source": [
    "\"\"\"Task:\n",
    "        Write a program that checks if the student has cleared test& marticulation then he/she can take admission otherwise not\"\"\"\n",
    "\n",
    "metric_pas = input(f\"What's your qualification ... \")\n",
    "if metric_pas.lower() == \"pass\":\n",
    "\n",
    "    test_passed = input(\"Had you passed the test..\")\n",
    "    if test_passed.lower() == \"yes\":\n",
    "        print(\"You are able to get the admission..\")\n",
    "    else:\n",
    "        print(\"Sorry , please pass the test.. \")\n",
    "else:\n",
    "    print(\"Please, first qualify your self \")        "
   ]
  },
  {
   "cell_type": "code",
   "execution_count": 7,
   "metadata": {},
   "outputs": [
    {
     "name": "stdout",
     "output_type": "stream",
     "text": [
      "['Toronto', 'Cape Town', 'Beijing', 'Rio de Janeiro', 'Mumbai', 'Cairo', 'Sydney', 'New York', 'Paris', 'Tokyo']\n"
     ]
    }
   ],
   "source": [
    "cities = [ \"Tokyo\", \"Paris\", \"New York\",\"Sydney\",\"Cairo\",\"Mumbai\" ,\"Rio de Janeiro\", \"Beijing\",\"Cape Town\", \"Toronto\"]\n",
    "\n",
    "print(cities[::-1])\n"
   ]
  },
  {
   "cell_type": "code",
   "execution_count": 28,
   "metadata": {},
   "outputs": [
    {
     "name": "stdout",
     "output_type": "stream",
     "text": [
      "['Karachi', 'Karachi', 'Karachi', 'Karachi', 'Tokyo', 'Paris', 'New York', 'Sydney', 'Cairo', 'Mumbai', 'Rio de Janeiro', 'Beijing', 'Cape Town', 'Toronto', 'Dallad', 'Dallad', 'Dallad']\n"
     ]
    }
   ],
   "source": [
    "# cities.insert(0,\"Karachi\")\n",
    "cities.remove(\"Karachi\")\n",
    "cities += [\"Dallad\"]\n",
    "print(cities)"
   ]
  },
  {
   "cell_type": "code",
   "execution_count": 31,
   "metadata": {},
   "outputs": [
    {
     "name": "stdout",
     "output_type": "stream",
     "text": [
      "Karachi\n"
     ]
    }
   ],
   "source": [
    "holding_pop_city = cities.pop(2)\n",
    "print(holding_pop_city)\n"
   ]
  },
  {
   "cell_type": "code",
   "execution_count": 34,
   "metadata": {},
   "outputs": [
    {
     "name": "stdout",
     "output_type": "stream",
     "text": [
      "['running', 'eating', 'studying']\n"
     ]
    }
   ],
   "source": [
    "tasks = ['praying', 'running', 'eating', 'studying']\n",
    "tasks_done = []\n",
    "tasks_done.append(tasks.pop(0))\n",
    "print(tasks)\n"
   ]
  },
  {
   "cell_type": "code",
   "execution_count": 56,
   "metadata": {},
   "outputs": [
    {
     "data": {
      "text/plain": [
       "['running',\n",
       " 'eating',\n",
       " 'studying',\n",
       " 'Shopping',\n",
       " 'Shopping',\n",
       " 'Shopping',\n",
       " 'Shopping',\n",
       " 'Shopping',\n",
       " 'Shopping',\n",
       " 'Shopping',\n",
       " 'Shopping',\n",
       " 'Shopping',\n",
       " 'Shopping',\n",
       " 'Shopping',\n",
       " 'Shopping',\n",
       " 'Shopping',\n",
       " 'Shopping',\n",
       " 'Shopping',\n",
       " 'Shopping',\n",
       " 'Shopping',\n",
       " 'Shopping',\n",
       " 'Shopping']"
      ]
     },
     "execution_count": 56,
     "metadata": {},
     "output_type": "execute_result"
    }
   ],
   "source": [
    "todo_list = tasks.copy()\n",
    "id(todo_list)\n",
    "\n",
    "tasks.append(\"Shopping\")\n",
    "tasks\n",
    "# todo_list\n"
   ]
  },
  {
   "cell_type": "markdown",
   "metadata": {},
   "source": [
    "##EXTRA METHOD"
   ]
  },
  {
   "cell_type": "code",
   "execution_count": 35,
   "metadata": {},
   "outputs": [
    {
     "data": {
      "text/plain": [
       "[]"
      ]
     },
     "execution_count": 35,
     "metadata": {},
     "output_type": "execute_result"
    }
   ],
   "source": []
  }
 ],
 "metadata": {
  "kernelspec": {
   "display_name": "Python 3",
   "language": "python",
   "name": "python3"
  },
  "language_info": {
   "codemirror_mode": {
    "name": "ipython",
    "version": 3
   },
   "file_extension": ".py",
   "mimetype": "text/x-python",
   "name": "python",
   "nbconvert_exporter": "python",
   "pygments_lexer": "ipython3",
   "version": "3.12.2"
  }
 },
 "nbformat": 4,
 "nbformat_minor": 2
}
