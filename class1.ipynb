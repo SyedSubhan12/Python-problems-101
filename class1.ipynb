{
 "cells": [
  {
   "cell_type": "markdown",
   "id": "ad8e7c67-5228-4ed1-9dc1-8a8a1683780f",
   "metadata": {},
   "source": [
    "### Class #1 Introduction to Python\n"
   ]
  },
  {
   "cell_type": "code",
   "execution_count": 1,
   "id": "edc662e6-c7b3-40d1-be5f-0108b55abb09",
   "metadata": {},
   "outputs": [
    {
     "name": "stdout",
     "output_type": "stream",
     "text": [
      "Hello!!! World\n"
     ]
    }
   ],
   "source": [
    "print(\"Hello!!! World\")"
   ]
  },
  {
   "cell_type": "raw",
   "id": "2cd8890f-a5b6-4605-b155-4a8414ed85a5",
   "metadata": {},
   "source": [
    "The print() is a function which can have many arguments like as strings, integers, booleans etc.this is how we can print whatever you want to on the console.\n"
   ]
  },
  {
   "cell_type": "code",
   "execution_count": 4,
   "id": "c7bf52e5-0eae-49c2-a87d-7396e3613fce",
   "metadata": {},
   "outputs": [
    {
     "name": "stdout",
     "output_type": "stream",
     "text": [
      "123\n"
     ]
    }
   ],
   "source": [
    "##printing the integer through the print()\n",
    "print(123)"
   ]
  },
  {
   "cell_type": "code",
   "execution_count": 8,
   "id": "84e0c19a-3f60-4a8e-b27b-3c3dcce83f2e",
   "metadata": {},
   "outputs": [
    {
     "name": "stdout",
     "output_type": "stream",
     "text": [
      "11\n",
      "-1\n",
      "30\n",
      "0.8333333333333334\n"
     ]
    }
   ],
   "source": [
    "#we can also perform operation like +, -, /, * with number\n",
    "#Addition\n",
    "print(5+6)\n",
    "#Substraction\n",
    "print(5-6)\n",
    "#multiplication\n",
    "print(5*6)\n",
    "#Divisions\n",
    "print(5/6)"
   ]
  }
 ],
 "metadata": {
  "kernelspec": {
   "display_name": "Python 3 (ipykernel)",
   "language": "python",
   "name": "python3"
  },
  "language_info": {
   "codemirror_mode": {
    "name": "ipython",
    "version": 3
   },
   "file_extension": ".py",
   "mimetype": "text/x-python",
   "name": "python",
   "nbconvert_exporter": "python",
   "pygments_lexer": "ipython3",
   "version": "3.11.7"
  }
 },
 "nbformat": 4,
 "nbformat_minor": 5
}
